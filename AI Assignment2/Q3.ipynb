{
 "cells": [
  {
   "cell_type": "code",
   "execution_count": 1,
   "metadata": {},
   "outputs": [],
   "source": [
    "import heapq\n",
    "import pandas as pd\n",
    "import random\n",
    "\n"
   ]
  },
  {
   "cell_type": "code",
   "execution_count": 2,
   "metadata": {},
   "outputs": [
    {
     "data": {
      "text/html": [
       "<div>\n",
       "<style scoped>\n",
       "    .dataframe tbody tr th:only-of-type {\n",
       "        vertical-align: middle;\n",
       "    }\n",
       "\n",
       "    .dataframe tbody tr th {\n",
       "        vertical-align: top;\n",
       "    }\n",
       "\n",
       "    .dataframe thead th {\n",
       "        text-align: right;\n",
       "    }\n",
       "</style>\n",
       "<table border=\"1\" class=\"dataframe\">\n",
       "  <thead>\n",
       "    <tr style=\"text-align: right;\">\n",
       "      <th></th>\n",
       "      <th>Distance in Kilometres</th>\n",
       "      <th>Ahmedabad</th>\n",
       "      <th>Bangalore</th>\n",
       "      <th>Bhubaneshwar</th>\n",
       "      <th>Bombay</th>\n",
       "      <th>Calcutta</th>\n",
       "      <th>Chandigarh</th>\n",
       "      <th>Cochin</th>\n",
       "      <th>Delhi</th>\n",
       "      <th>Hyderabad</th>\n",
       "      <th>...</th>\n",
       "      <th>Jaipur</th>\n",
       "      <th>Kanpur</th>\n",
       "      <th>Lucknow</th>\n",
       "      <th>Madras</th>\n",
       "      <th>Nagpur</th>\n",
       "      <th>Nasik</th>\n",
       "      <th>Panjim</th>\n",
       "      <th>Patna</th>\n",
       "      <th>Pondicherry</th>\n",
       "      <th>Pune</th>\n",
       "    </tr>\n",
       "  </thead>\n",
       "  <tbody>\n",
       "    <tr>\n",
       "      <th>0</th>\n",
       "      <td>Agartala</td>\n",
       "      <td>3305</td>\n",
       "      <td>3824</td>\n",
       "      <td>2286</td>\n",
       "      <td>3593</td>\n",
       "      <td>1863</td>\n",
       "      <td>2998</td>\n",
       "      <td>4304</td>\n",
       "      <td>2708</td>\n",
       "      <td>3330</td>\n",
       "      <td>...</td>\n",
       "      <td>2801</td>\n",
       "      <td>2281</td>\n",
       "      <td>2252</td>\n",
       "      <td>3493</td>\n",
       "      <td>2696</td>\n",
       "      <td>3365</td>\n",
       "      <td>3507</td>\n",
       "      <td>1681</td>\n",
       "      <td>3661</td>\n",
       "      <td>3442</td>\n",
       "    </tr>\n",
       "    <tr>\n",
       "      <th>1</th>\n",
       "      <td>Agra</td>\n",
       "      <td>878</td>\n",
       "      <td>1848</td>\n",
       "      <td>1578</td>\n",
       "      <td>1202</td>\n",
       "      <td>1300</td>\n",
       "      <td>448</td>\n",
       "      <td>2278</td>\n",
       "      <td>200</td>\n",
       "      <td>1246</td>\n",
       "      <td>...</td>\n",
       "      <td>230</td>\n",
       "      <td>290</td>\n",
       "      <td>369</td>\n",
       "      <td>2048</td>\n",
       "      <td>770</td>\n",
       "      <td>1005</td>\n",
       "      <td>1715</td>\n",
       "      <td>885</td>\n",
       "      <td>2210</td>\n",
       "      <td>1214</td>\n",
       "    </tr>\n",
       "    <tr>\n",
       "      <th>2</th>\n",
       "      <td>Ahmedabad</td>\n",
       "      <td>-</td>\n",
       "      <td>1490</td>\n",
       "      <td>1697</td>\n",
       "      <td>552</td>\n",
       "      <td>2068</td>\n",
       "      <td>1157</td>\n",
       "      <td>1845</td>\n",
       "      <td>911</td>\n",
       "      <td>1436</td>\n",
       "      <td>...</td>\n",
       "      <td>648</td>\n",
       "      <td>1168</td>\n",
       "      <td>1247</td>\n",
       "      <td>1821</td>\n",
       "      <td>965</td>\n",
       "      <td>504</td>\n",
       "      <td>1165</td>\n",
       "      <td>1656</td>\n",
       "      <td>1818</td>\n",
       "      <td>664</td>\n",
       "    </tr>\n",
       "    <tr>\n",
       "      <th>3</th>\n",
       "      <td>Allahabad</td>\n",
       "      <td>1251</td>\n",
       "      <td>1686</td>\n",
       "      <td>1090</td>\n",
       "      <td>1457</td>\n",
       "      <td>817</td>\n",
       "      <td>912</td>\n",
       "      <td>2216</td>\n",
       "      <td>650</td>\n",
       "      <td>1084</td>\n",
       "      <td>...</td>\n",
       "      <td>713</td>\n",
       "      <td>193</td>\n",
       "      <td>234</td>\n",
       "      <td>2011</td>\n",
       "      <td>608</td>\n",
       "      <td>1155</td>\n",
       "      <td>1419</td>\n",
       "      <td>402</td>\n",
       "      <td>1077</td>\n",
       "      <td>1364</td>\n",
       "    </tr>\n",
       "    <tr>\n",
       "      <th>4</th>\n",
       "      <td>Amritsar</td>\n",
       "      <td>1356</td>\n",
       "      <td>2496</td>\n",
       "      <td>2224</td>\n",
       "      <td>1849</td>\n",
       "      <td>1919</td>\n",
       "      <td>239</td>\n",
       "      <td>3163</td>\n",
       "      <td>445</td>\n",
       "      <td>1892</td>\n",
       "      <td>...</td>\n",
       "      <td>706</td>\n",
       "      <td>926</td>\n",
       "      <td>939</td>\n",
       "      <td>2688</td>\n",
       "      <td>1416</td>\n",
       "      <td>1665</td>\n",
       "      <td>2237</td>\n",
       "      <td>1531</td>\n",
       "      <td>2856</td>\n",
       "      <td>1862</td>\n",
       "    </tr>\n",
       "  </tbody>\n",
       "</table>\n",
       "<p>5 rows × 21 columns</p>\n",
       "</div>"
      ],
      "text/plain": [
       "  Distance in Kilometres Ahmedabad Bangalore Bhubaneshwar Bombay Calcutta  \\\n",
       "0               Agartala      3305      3824         2286   3593     1863   \n",
       "1                   Agra       878      1848         1578   1202     1300   \n",
       "2              Ahmedabad         -      1490         1697    552     2068   \n",
       "3              Allahabad      1251      1686         1090   1457      817   \n",
       "4               Amritsar      1356      2496         2224   1849     1919   \n",
       "\n",
       "  Chandigarh Cochin Delhi Hyderabad  ... Jaipur Kanpur Lucknow Madras Nagpur  \\\n",
       "0       2998   4304  2708      3330  ...   2801   2281    2252   3493   2696   \n",
       "1        448   2278   200      1246  ...    230    290     369   2048    770   \n",
       "2       1157   1845   911      1436  ...    648   1168    1247   1821    965   \n",
       "3        912   2216   650      1084  ...    713    193     234   2011    608   \n",
       "4        239   3163   445      1892  ...    706    926     939   2688   1416   \n",
       "\n",
       "  Nasik Panjim Patna Pondicherry  Pune  \n",
       "0  3365   3507  1681        3661  3442  \n",
       "1  1005   1715   885        2210  1214  \n",
       "2   504   1165  1656        1818   664  \n",
       "3  1155   1419   402        1077  1364  \n",
       "4  1665   2237  1531        2856  1862  \n",
       "\n",
       "[5 rows x 21 columns]"
      ]
     },
     "execution_count": 2,
     "metadata": {},
     "output_type": "execute_result"
    }
   ],
   "source": [
    "data = pd.read_csv(\"Road_Distance.csv\")\n",
    "data.head()\n"
   ]
  },
  {
   "cell_type": "code",
   "execution_count": 3,
   "metadata": {},
   "outputs": [
    {
     "data": {
      "text/plain": [
       "'Distance in Kilometres'"
      ]
     },
     "execution_count": 3,
     "metadata": {},
     "output_type": "execute_result"
    }
   ],
   "source": [
    "#construncting the graph\n",
    "column_names = data.columns.tolist()\n",
    "distance_values = data[\"Distance in Kilometres\"].tolist()\n",
    "column_names.pop(0)"
   ]
  },
  {
   "cell_type": "code",
   "execution_count": 4,
   "metadata": {},
   "outputs": [
    {
     "name": "stdout",
     "output_type": "stream",
     "text": [
      "{'Vijayawada': 0, 'Delhi': 1, 'Jamshedpur': 2, 'Hubli': 3, 'Ludhiana': 4, 'Surat': 5, 'Cochin': 6, 'Vishakapatnam': 7, 'Indore': 8, 'Jabalpur': 9, 'Nagpur': 10, 'Ahmedabad': 11, 'Nasik': 12, 'Shimla': 13, 'Varanasi': 14, 'Asansol': 15, 'Kolhapur': 16, 'Lucknow': 17, 'Baroda': 18, 'Madras': 19, 'Meerut': 20, 'Bangalore': 21, 'Bombay': 22, 'Calicut': 23, 'Panjim': 24, 'Bhubaneshwar': 25, 'Amritsar': 26, 'Agartala': 27, 'Bhopal': 28, 'Kanpur': 29, 'Ranchi': 30, 'Hyderabad': 31, 'Pune': 32, 'Patna': 33, 'Imphal': 34, 'Jullundur': 35, 'Madurai': 36, 'Jaipur': 37, 'Pondicherry': 38, 'Shillong': 39, 'Chandigarh': 40, 'Trivandrum': 41, 'Calcutta': 42, 'Coimbatore': 43, 'Gwalior': 44, 'Allahabad': 45, 'Agra': 46}\n"
     ]
    }
   ],
   "source": [
    "cities = set(distance_values+column_names)\n",
    "city_index_mapping = {}\n",
    "index_city_mapping = {}\n",
    "index = 0\n",
    "for i in cities:\n",
    "    city_index_mapping[i] = index\n",
    "    index_city_mapping[index] = i\n",
    "    index+=1\n",
    "print(city_index_mapping)"
   ]
  },
  {
   "cell_type": "code",
   "execution_count": 5,
   "metadata": {},
   "outputs": [],
   "source": [
    "city_coordinates = {\n",
    "    \"Agartala\": (23.8315, 91.2868),\n",
    "    \"Agra\": (27.1767, 78.0081),\n",
    "    \"Ahmedabad\": (23.0225, 72.5714),\n",
    "    \"Allahabad\": (25.4358, 81.8463),\n",
    "    \"Amritsar\": (31.6340, 74.8723),\n",
    "    \"Asansol\": (23.6889, 86.9661),\n",
    "    \"Bangalore\": (12.9716, 77.5946),\n",
    "    \"Baroda\": (22.3072, 73.1812),\n",
    "    \"Bhopal\": (23.2599, 77.4126),\n",
    "    \"Bhubaneshwar\": (20.2961, 85.8245),\n",
    "    \"Bombay\": (19.0760, 72.8777),\n",
    "    \"Calcutta\": (22.5726, 88.3639),\n",
    "    \"Calicut\": (11.2588, 75.7804),\n",
    "    \"Chandigarh\": (30.7333, 76.7794),\n",
    "    \"Cochin\": (9.9312, 76.2673),\n",
    "    \"Coimbatore\": (11.0168, 76.9558),\n",
    "    \"Delhi\": (28.7041, 77.1025),\n",
    "    \"Gwalior\": (26.2183, 78.1828),\n",
    "    \"Hubli\": (15.3647, 75.1240),\n",
    "    \"Hyderabad\": (17.3850, 78.4867),\n",
    "    \"Imphal\": (24.8170, 93.9368),\n",
    "    \"Indore\": (22.7196, 75.8577),\n",
    "    \"Jabalpur\": (23.1815, 79.9864),\n",
    "    \"Jaipur\": (26.9124, 75.7873),\n",
    "    \"Jamshedpur\": (22.8065, 86.2029),\n",
    "    \"Jullundur\": (31.3260, 75.5762),\n",
    "    \"Kanpur\": (26.4499, 80.3319),\n",
    "    \"Kolhapur\": (16.7050, 74.2433),\n",
    "    \"Lucknow\": (26.8467, 80.9462),\n",
    "    \"Ludhiana\": (30.9010, 75.8573),\n",
    "    \"Madras\": (13.0827, 80.2707),\n",
    "    \"Madurai\": (9.9252, 78.1198),\n",
    "    \"Meerut\": (28.9845, 77.7064),\n",
    "    \"Nagpur\": (21.1458, 79.0882),\n",
    "    \"Nasik\": (19.9975, 73.7898),\n",
    "    \"Panjim\": (15.4909, 73.8278),\n",
    "    \"Patna\": (25.5941, 85.1376),\n",
    "    \"Pondicherry\": (11.9416, 79.8083),\n",
    "    \"Pune\": (18.5204, 73.8567),\n",
    "    \"Ranchi\": (23.3441, 85.3096),\n",
    "    \"Shillong\": (25.5788, 91.8933),\n",
    "    \"Shimla\": (31.1048, 77.1734),\n",
    "    \"Surat\": (21.1702, 72.8311),\n",
    "    \"Trivandrum\": (8.5241, 76.9366),\n",
    "    \"Varanasi\": (25.3176, 82.9739),\n",
    "    \"Vijayawada\": (16.5062, 80.6480),\n",
    "    \"Vishakapatnam\": (17.6868, 83.2185)\n",
    "}\n"
   ]
  },
  {
   "cell_type": "code",
   "execution_count": 6,
   "metadata": {},
   "outputs": [
    {
     "name": "stdout",
     "output_type": "stream",
     "text": [
      "20\n"
     ]
    }
   ],
   "source": [
    "#graph creation\n",
    "adj = [[] for i in range(len(cities))]\n",
    "for _, row in data.iterrows():\n",
    "    city_a = row[\"Distance in Kilometres\"]\n",
    "    for city_b in column_names:\n",
    "        if(city_a != city_b):\n",
    "            adj[city_index_mapping[city_a]].append((city_index_mapping[city_b], float(row[city_b])))\n",
    "            adj[city_index_mapping[city_b]].append((city_index_mapping[city_a], float(row[city_b])))\n",
    "print(len(adj[41]))\n"
   ]
  },
  {
   "cell_type": "code",
   "execution_count": 8,
   "metadata": {},
   "outputs": [],
   "source": [
    "def uniform_cost(n, start, goal, adj):\n",
    "    frontier = [(0, start)] #(dist, city)\n",
    "\n",
    "    dist = [float(1e9)] * (n)\n",
    "    parent = list(range(n)) #to store path\n",
    "    dist[start] = 0\n",
    "\n",
    "    while frontier:\n",
    "        dis, city = heapq.heappop(frontier)\n",
    "        # print(city, frontier)\n",
    "        for adj_city, road_distance in adj[city]:\n",
    "            if dis + road_distance < dist[adj_city]:\n",
    "                dist[adj_city] = dis + road_distance\n",
    "                heapq.heappush(frontier, (dis + road_distance, adj_city))\n",
    "                parent[adj_city] = city\n",
    "    path = []\n",
    "    city = goal\n",
    "    while parent[city] != city:\n",
    "        path.append(index_city_mapping[city])\n",
    "        city = parent[city]\n",
    "    path.append(index_city_mapping[start])\n",
    "    path.reverse()\n",
    "    return path, dist[goal]"
   ]
  },
  {
   "cell_type": "code",
   "execution_count": 9,
   "metadata": {},
   "outputs": [],
   "source": [
    "def a_heuristic(city, goal):\n",
    "    return ((city_coordinates[index_city_mapping[goal]][0] - city_coordinates[index_city_mapping[city]][0])**2 + (city_coordinates[index_city_mapping[goal]][1] - city_coordinates[index_city_mapping[city]][1])**2)**0.5\n",
    "\n",
    "def i_heuristic(city, goal):\n",
    "    maxi = 0\n",
    "    for adj_city, road_distance in adj[city]:\n",
    "        maxi = max(road_distance, maxi)\n",
    "   \n",
    "    return maxi\n",
    "    \n",
    "\n",
    "def astar_search(n, start, goal, adj, heuristic):\n",
    "    frontier = [(0 + heuristic(start, goal), start)] #(dist, city)\n",
    "    dist = [float(1e9)]*(n)\n",
    "    visit = [0]*n\n",
    "    parent = list(range(n)) #to store path\n",
    "    dist[start] = 0 + heuristic(start, goal)\n",
    "\n",
    "    while frontier:\n",
    "        dis, city = heapq.heappop(frontier)\n",
    "        if city == goal:\n",
    "            path = []\n",
    "            city = goal\n",
    "            while parent[city] != city:\n",
    "                path.append(index_city_mapping[city])\n",
    "                city = parent[city]\n",
    "            path.append(index_city_mapping[start])\n",
    "            path.reverse()\n",
    "            return path, dist[goal]\n",
    "        for adj_city, road_distance in adj[city]:\n",
    "            if dis-heuristic(city, goal) + road_distance +  heuristic(adj_city, goal) < dist[adj_city]:\n",
    "                heapq.heappush(frontier, (dis-heuristic(city, goal) + road_distance +  heuristic(adj_city, goal), adj_city))\n",
    "                parent[adj_city] = city\n",
    "                dist[adj_city] = dis - heuristic(city, goal) + road_distance + heuristic(adj_city, goal)\n"
   ]
  },
  {
   "cell_type": "code",
   "execution_count": 10,
   "metadata": {},
   "outputs": [
    {
     "data": {
      "text/plain": [
       "2101.0"
      ]
     },
     "execution_count": 10,
     "metadata": {},
     "output_type": "execute_result"
    }
   ],
   "source": [
    "i_heuristic(city_index_mapping['Hubli'], 'a')"
   ]
  },
  {
   "cell_type": "code",
   "execution_count": 13,
   "metadata": {},
   "outputs": [
    {
     "name": "stdout",
     "output_type": "stream",
     "text": [
      "(['Surat', 'Ahmedabad', 'Agra'], 1141.0)\n"
     ]
    }
   ],
   "source": [
    "print(uniform_cost(len(city_index_mapping), city_index_mapping['Surat'], city_index_mapping['Agra'], adj))\n"
   ]
  },
  {
   "cell_type": "code",
   "execution_count": 14,
   "metadata": {},
   "outputs": [
    {
     "name": "stdout",
     "output_type": "stream",
     "text": [
      "(['Surat', 'Indore', 'Agra'], 3476.0)\n"
     ]
    }
   ],
   "source": [
    "print(astar_search(len(city_index_mapping), city_index_mapping['Surat'], city_index_mapping['Agra'], adj, i_heuristic))"
   ]
  },
  {
   "cell_type": "code",
   "execution_count": 20,
   "metadata": {},
   "outputs": [
    {
     "name": "stdout",
     "output_type": "stream",
     "text": [
      "Uniform cost search: \n",
      "(['Ludhiana', 'Chandigarh', 'Cochin', 'Coimbatore'], 2265.0)\n",
      "A* search with admissible heuristic: \n",
      "(['Ludhiana'], 0.0)\n",
      "A* search with inadmissible heuristic: \n",
      "(['Ludhiana'], 3027.0)\n",
      "Uniform cost search: \n",
      "(['Surat', 'Ahmedabad', 'Agra'], 1141.0)\n",
      "A* search with admissible heuristic: \n",
      "(['Surat'], 0.0)\n",
      "A* search with inadmissible heuristic: \n",
      "(['Surat'], 1912.0)\n"
     ]
    }
   ],
   "source": [
    "# Ludhiana Coimbatore\n",
    "# Surat Agra\n",
    "while True:\n",
    "    start = input(\"Enter intitial destination : \")\n",
    "    goal = input(\"Enter final destination : \")\n",
    "    print(\"Uniform cost search: \")\n",
    "    print(uniform_cost(len(city_index_mapping), city_index_mapping[start], city_index_mapping[goal], adj))\n",
    "    print(\"A* search with admissible heuristic: \")\n",
    "    print(astar_search(len(city_index_mapping), city_index_mapping[start], city_index_mapping[goal], adj, a_heuristic))\n",
    "    print(\"A* search with inadmissible heuristic: \")\n",
    "    print(astar_search(len(city_index_mapping), city_index_mapping[start], city_index_mapping[goal], adj, i_heuristic))\n",
    "\n",
    "    "
   ]
  },
  {
   "cell_type": "markdown",
   "metadata": {},
   "source": [
    "Two origin-destination pairs for which the inadmissible heuristic expands fewer nodes are as follows:\n",
    "    1. Ludhiana and Coimbatore\n",
    "        The optimal path between them is ['Ludhiana', 'Chandigarh', 'Cochin', 'Coimbatore'] whereas the path given by inadmissible heuristic is ['Ludhiana', 'Jaipur', 'Indore', 'Nasik', 'Coimbatore']\n",
    "    2. Surat and Agra\n",
    "        The optimal path between them is ['Surat', 'Ahmedabad', 'Agra'] whereas the path given by inadmissible heuristic is ['Surat', 'Indore', 'Agra']"
   ]
  }
 ],
 "metadata": {
  "kernelspec": {
   "display_name": "Python 3",
   "language": "python",
   "name": "python3"
  },
  "language_info": {
   "codemirror_mode": {
    "name": "ipython",
    "version": 3
   },
   "file_extension": ".py",
   "mimetype": "text/x-python",
   "name": "python",
   "nbconvert_exporter": "python",
   "pygments_lexer": "ipython3",
   "version": "3.10.11"
  }
 },
 "nbformat": 4,
 "nbformat_minor": 2
}
